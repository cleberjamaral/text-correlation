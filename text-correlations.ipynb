{
 "cells": [
  {
   "cell_type": "markdown",
   "metadata": {},
   "source": [
    "# Text correlations\n",
    "\n",
    "Creates a correlation matrix among a set of given documents showing how strong is the relationship or similarity with them. It grab all documents from a specified folder using tensorflow universal sentence encoder creates vectors of them. \n",
    "\n",
    "By default, the folder with the documents is called `my_documents/` and the resulting files with all correlations will be placed on `correlation/` forlder. \n",
    "\n",
    "The csv output file `correlation/correlation.csv` can be imported in spreadsheet processors such as Microsoft Excel, Libre Office and Google Spreadsheets. The correlation near to 1 is maximum, close to zero is minimal, meaning no correlation. It is also suggested to use their tools for conditional formating to facilitate visualization.\n",
    "\n",
    "By default, intermediary files greater than 500 kBytes are skipped.\n",
    "\n",
    "Two other folders `correlation/texts/` and `correlation/vectors/` are created with intermediary files.\n",
    "\n",
    "The original documents can be PDF, DOC and EPUB and others ([see tika documentation](https://tika.apache.org/0.9/formats.html))\n",
    "\n",
    "Developed using Python 3.7.7"
   ]
  },
  {
   "cell_type": "code",
   "execution_count": 49,
   "metadata": {},
   "outputs": [],
   "source": [
    "# Imports\n",
    "from tika import parser # For parsing PDF and other to TXT\n",
    "from multiprocessing import Pool\n",
    "import os\n",
    "from os import path, stat\n",
    "import glob # For listing files in forlders\n",
    "import tensorflow_hub as hub\n",
    "import numpy as np\n",
    "import tensorflow_text\n",
    "import dill # For binary files\n",
    "import pandas as pd \n",
    "import altair as alt # for charts\n",
    "import re # for searchs in text"
   ]
  },
  {
   "cell_type": "code",
   "execution_count": 50,
   "metadata": {},
   "outputs": [],
   "source": [
    "# Setup\n",
    "# Path for local documents (pdfs, docs, txts, etc.)\n",
    "PATH_FOR_DOCUMENTS = \"my_documents/\"\n",
    "# Path to put plain texts (can leave is as it is)\n",
    "PATH_TEXTS = \"correlation/texts/\"\n",
    "# Path to put vectors - enconded texts according to their contexts (can leave is as it is)\n",
    "PATH_VECTORS = \"correlation/vectors/\"\n",
    "# Path to put the output csv file\n",
    "PATH_CORRELATION_FILE = \"correlation/\"\n",
    "# Max size for the plain text file, skipping bigger than since taks too long to process\n",
    "MAX_FILESIZE = 500*1024\n",
    "# Plotting configurations\n",
    "CHART_WIDTH = 600\n",
    "CHART_HEIGHT = 400"
   ]
  },
  {
   "cell_type": "code",
   "execution_count": 51,
   "metadata": {},
   "outputs": [],
   "source": [
    "# helpers\n",
    "def parse_document(file):\n",
    "    content = parser.from_file(file)\n",
    "    if 'content' in content:\n",
    "        text = content['content']\n",
    "    else:\n",
    "        return\n",
    "    text = str(text)\n",
    "    # Ensure text is utf-8 formatted\n",
    "    safe_text = text.encode('utf-8', errors='ignore')\n",
    "    # Escape any \\ issues\n",
    "    safe_text = str(safe_text).replace('\\\\', '\\\\\\\\').replace('\"', '\\\\\"')\n",
    "    return safe_text\n",
    "    \n",
    "def encode_text(text):\n",
    "        return embed(text)\n",
    "\n",
    "def create_folder(folder):\n",
    "    if not os.path.exists(folder):\n",
    "        os.makedirs(folder)    \n",
    "\n",
    "def save_text(file, text):\n",
    "    text_file = open(PATH_TEXTS + os.path.basename(file) + \".txt\", \"w\")\n",
    "    text_file.write(text)\n",
    "    text_file.close()\n",
    "    \n",
    "def read_text(file):\n",
    "    text_file = open(PATH_TEXTS + os.path.basename(file), \"r\")\n",
    "    text = text_file.read()\n",
    "    text_file.close()\n",
    "    return text\n",
    "    \n",
    "def read_vector(file):\n",
    "    vector = dill.load(open(PATH_VECTORS + os.path.basename(file), \"rb\"))\n",
    "    return vector\n",
    "\n",
    "def save_vector(file, vector):\n",
    "    dill.dump(vector, open(PATH_VECTORS + os.path.basename(file) + \".vec\", \"wb\"))"
   ]
  },
  {
   "cell_type": "code",
   "execution_count": 52,
   "metadata": {},
   "outputs": [],
   "source": [
    "# Create folders if does not exist\n",
    "create_folder(PATH_TEXTS)\n",
    "create_folder(PATH_VECTORS)"
   ]
  },
  {
   "cell_type": "code",
   "execution_count": 53,
   "metadata": {},
   "outputs": [],
   "source": [
    "# tensorflow universal-sentence-encoder-multilingual\n",
    "# 16 languages (Arabic, Chinese-simplified, Chinese-traditional, English, French, German, Italian, Japanese, Korean, Dutch, Polish, Portuguese, Spanish, Thai, Turkish, Russian) text encoder.\n",
    "embed = hub.load(\"https://tfhub.dev/google/universal-sentence-encoder-multilingual/3\")"
   ]
  },
  {
   "cell_type": "code",
   "execution_count": 54,
   "metadata": {},
   "outputs": [],
   "source": [
    "# Check if there are old and unnecessary output files\n",
    "# It will not \n",
    "unnecessary_texts = []\n",
    "files = glob.glob(PATH_FOR_DOCUMENTS + \"*\")\n",
    "text_files = glob.glob(PATH_TEXTS + \"*\")\n",
    "vector_files = glob.glob(PATH_VECTORS + \"*\")\n",
    "for tf in text_files: \n",
    "    original_name = os.path.basename(tf[:-4])\n",
    "    if PATH_FOR_DOCUMENTS + original_name not in files:\n",
    "        unnecessary_texts.append(tf)\n",
    "if (unnecessary_texts != []):\n",
    "    print(\"The following text files seems to be unnecessary:\")\n",
    "    print(unnecessary_texts)\n",
    "# Uncomment to remove them\n",
    "    #for f in unnecessary_texts:\n",
    "        #os.remove(f)\n",
    "unnecessary_vectors = []\n",
    "for vf in vector_files: \n",
    "    original_text_name = os.path.basename(vf[:-4])\n",
    "    if PATH_TEXTS + original_text_name not in text_files:\n",
    "        unnecessary_vectors.append(vf)\n",
    "if (unnecessary_vectors != []):\n",
    "    print(\"The following vector files seems to be unnecessary:\")\n",
    "    print(unnecessary_vectors)\n",
    "# Uncomment to remove them\n",
    "    #for f in unnecessary_vectors:\n",
    "        #os.remove(f)"
   ]
  },
  {
   "cell_type": "code",
   "execution_count": 55,
   "metadata": {},
   "outputs": [],
   "source": [
    "# List of files that will be converted to plain text\n",
    "files = glob.glob(PATH_FOR_DOCUMENTS + \"*\")\n",
    "# Create plain text files from original documets\n",
    "for f in files: \n",
    "    if not path.exists(PATH_TEXTS + os.path.basename(f) + \".txt\"):\n",
    "        parsed_document = parse_document(f)\n",
    "        save_text(f, parsed_document)"
   ]
  },
  {
   "cell_type": "code",
   "execution_count": 56,
   "metadata": {},
   "outputs": [],
   "source": [
    "# List of plain text documents that exist in the PATH_TEXTS folder\n",
    "text_files = glob.glob(PATH_TEXTS + \"*\")\n",
    "# Create vectors for the plain texts\n",
    "for tf in text_files: \n",
    "    if os.stat(tf).st_size < MAX_FILESIZE and not path.exists(PATH_VECTORS + os.path.basename(tf) + \".vec\"):\n",
    "        text = read_text(tf)\n",
    "        vector = encode_text(text)\n",
    "        save_vector(tf, vector)"
   ]
  },
  {
   "cell_type": "code",
   "execution_count": 57,
   "metadata": {},
   "outputs": [],
   "source": [
    "# List of vectors that exist in the PATH_VECTORS folder\n",
    "vector_files = glob.glob(PATH_VECTORS + \"*\")\n",
    "# Read existing vectors\n",
    "vectors = []\n",
    "for vf in vector_files: \n",
    "    vector = read_vector(vf)\n",
    "    vectors.append(vector)"
   ]
  },
  {
   "cell_type": "code",
   "execution_count": 58,
   "metadata": {},
   "outputs": [],
   "source": [
    "# List all existing files, create a dataframe putting them as rows and coluns in a \"n x n\" structure\n",
    "file_names = []\n",
    "for vf in vector_files:\n",
    "    file_name = os.path.basename(vf)\n",
    "    file_names.append(file_name.split('.')[0])\n",
    "df = pd.DataFrame(columns=[file_names])\n",
    "df.columns = df.columns.map(str)\n",
    "# Start the structure with zeros in the correlations\n",
    "for fn in file_names:\n",
    "    df.loc[fn] = np.zeros(len(file_names))"
   ]
  },
  {
   "cell_type": "code",
   "execution_count": 59,
   "metadata": {},
   "outputs": [],
   "source": [
    "# Process correlations across each document with all others, uptade the \"n x n\" structure with these correlations\n",
    "for i in range(len(file_names)):\n",
    "    for j in range(len(file_names)):\n",
    "        # df.values[row, column] = value\n",
    "        df.values[i, j] = np.inner(vectors[i], vectors[j])"
   ]
  },
  {
   "cell_type": "code",
   "execution_count": 60,
   "metadata": {},
   "outputs": [],
   "source": [
    "# Save the correlations into a csv file\n",
    "df.to_csv(PATH_CORRELATION_FILE + \"correlations.csv\")"
   ]
  },
  {
   "cell_type": "code",
   "execution_count": 61,
   "metadata": {},
   "outputs": [],
   "source": [
    "# For plotting, generate a table with the columns paper_a, paper_b, and correlation\n",
    "file_names = []\n",
    "for vf in vector_files:\n",
    "    file_name = os.path.basename(vf)\n",
    "    file_names.append(file_name.split('.')[0])\n",
    "dfsingle = pd.DataFrame(columns=[\"paper_a\", \"paper_b\", \"correlation\"])\n",
    "dfsingle.columns = dfsingle.columns.map(str)"
   ]
  },
  {
   "cell_type": "code",
   "execution_count": 62,
   "metadata": {},
   "outputs": [],
   "source": [
    "# Process correlations for table with 3 columns\n",
    "for i in range(len(file_names)):\n",
    "    for j in range(len(file_names)):\n",
    "        # df.values[row, column] = value\n",
    "        dfsingle.loc[(i*len(file_names))+j] = (file_names[i], \n",
    "                                            file_names[j], \n",
    "                                            round(float(np.inner(vectors[i], vectors[j])), 2) * 100)"
   ]
  },
  {
   "cell_type": "code",
   "execution_count": 63,
   "metadata": {},
   "outputs": [],
   "source": [
    "# Save the correlations into a csv file\n",
    "dfsingle.to_csv(PATH_CORRELATION_FILE + \"single_correlations.csv\")"
   ]
  },
  {
   "cell_type": "code",
   "execution_count": 65,
   "metadata": {},
   "outputs": [
    {
     "data": {
      "text/html": [
       "\n",
       "<div id=\"altair-viz-9372f8a120ac418eb5aca55be270c32c\"></div>\n",
       "<script type=\"text/javascript\">\n",
       "  (function(spec, embedOpt){\n",
       "    let outputDiv = document.currentScript.previousElementSibling;\n",
       "    if (outputDiv.id !== \"altair-viz-9372f8a120ac418eb5aca55be270c32c\") {\n",
       "      outputDiv = document.getElementById(\"altair-viz-9372f8a120ac418eb5aca55be270c32c\");\n",
       "    }\n",
       "    const paths = {\n",
       "      \"vega\": \"https://cdn.jsdelivr.net/npm//vega@5?noext\",\n",
       "      \"vega-lib\": \"https://cdn.jsdelivr.net/npm//vega-lib?noext\",\n",
       "      \"vega-lite\": \"https://cdn.jsdelivr.net/npm//vega-lite@4.8.1?noext\",\n",
       "      \"vega-embed\": \"https://cdn.jsdelivr.net/npm//vega-embed@6?noext\",\n",
       "    };\n",
       "\n",
       "    function loadScript(lib) {\n",
       "      return new Promise(function(resolve, reject) {\n",
       "        var s = document.createElement('script');\n",
       "        s.src = paths[lib];\n",
       "        s.async = true;\n",
       "        s.onload = () => resolve(paths[lib]);\n",
       "        s.onerror = () => reject(`Error loading script: ${paths[lib]}`);\n",
       "        document.getElementsByTagName(\"head\")[0].appendChild(s);\n",
       "      });\n",
       "    }\n",
       "\n",
       "    function showError(err) {\n",
       "      outputDiv.innerHTML = `<div class=\"error\" style=\"color:red;\">${err}</div>`;\n",
       "      throw err;\n",
       "    }\n",
       "\n",
       "    function displayChart(vegaEmbed) {\n",
       "      vegaEmbed(outputDiv, spec, embedOpt)\n",
       "        .catch(err => showError(`Javascript Error: ${err.message}<br>This usually means there's a typo in your chart specification. See the javascript console for the full traceback.`));\n",
       "    }\n",
       "\n",
       "    if(typeof define === \"function\" && define.amd) {\n",
       "      requirejs.config({paths});\n",
       "      require([\"vega-embed\"], displayChart, err => showError(`Error loading script: ${err.message}`));\n",
       "    } else if (typeof vegaEmbed === \"function\") {\n",
       "      displayChart(vegaEmbed);\n",
       "    } else {\n",
       "      loadScript(\"vega\")\n",
       "        .then(() => loadScript(\"vega-lite\"))\n",
       "        .then(() => loadScript(\"vega-embed\"))\n",
       "        .catch(showError)\n",
       "        .then(() => displayChart(vegaEmbed));\n",
       "    }\n",
       "  })({\"config\": {\"view\": {\"continuousWidth\": 400, \"continuousHeight\": 300}}, \"layer\": [{\"mark\": \"rect\", \"encoding\": {\"color\": {\"type\": \"quantitative\", \"field\": \"Correlation\"}, \"x\": {\"type\": \"ordinal\", \"axis\": {\"title\": \"\"}, \"field\": \"x\"}, \"y\": {\"type\": \"ordinal\", \"axis\": {\"title\": \"\"}, \"field\": \"y\"}}, \"height\": 400, \"width\": 600}, {\"mark\": {\"type\": \"text\", \"baseline\": \"middle\"}, \"encoding\": {\"color\": {\"condition\": {\"value\": \"black\", \"test\": \"(datum.Correlation > 70)\"}, \"value\": \"white\"}, \"text\": {\"type\": \"quantitative\", \"field\": \"Correlation\"}, \"x\": {\"type\": \"ordinal\", \"axis\": {\"title\": \"\"}, \"field\": \"x\"}, \"y\": {\"type\": \"ordinal\", \"axis\": {\"title\": \"\"}, \"field\": \"y\"}}}], \"data\": {\"name\": \"data-acf236cf19f061f22ef2742979933e3c\"}, \"$schema\": \"https://vega.github.io/schema/vega-lite/v4.8.1.json\", \"datasets\": {\"data-acf236cf19f061f22ef2742979933e3c\": [{\"x\": \"EMAS2019_paper_32\", \"y\": \"EMAS2019_paper_32\", \"Correlation\": 100.0}, {\"x\": \"EMAS2019_paper_32\", \"y\": \"EMAS2019_paper_24\", \"Correlation\": 61.0}, {\"x\": \"EMAS2019_paper_32\", \"y\": \"EMAS2019_paper_22\", \"Correlation\": 63.0}, {\"x\": \"EMAS2019_paper_32\", \"y\": \"EMAS2019_paper_28\", \"Correlation\": 53.0}, {\"x\": \"EMAS2019_paper_32\", \"y\": \"EMAS2019_paper_33\", \"Correlation\": 62.0}, {\"x\": \"EMAS2019_paper_32\", \"y\": \"EMAS2019_paper_5\", \"Correlation\": 57.99999999999999}, {\"x\": \"EMAS2019_paper_32\", \"y\": \"EMAS2019_paper_26\", \"Correlation\": 65.0}, {\"x\": \"EMAS2019_paper_32\", \"y\": \"EMAS2019_paper_21\", \"Correlation\": 56.00000000000001}, {\"x\": \"EMAS2019_paper_32\", \"y\": \"EMAS2019_paper_18\", \"Correlation\": 60.0}, {\"x\": \"EMAS2019_paper_32\", \"y\": \"EMAS2019_paper_23\", \"Correlation\": 52.0}, {\"x\": \"EMAS2019_paper_32\", \"y\": \"EMAS2019_paper_31\", \"Correlation\": 65.0}, {\"x\": \"EMAS2019_paper_32\", \"y\": \"EMAS2019_paper_27\", \"Correlation\": 61.0}, {\"x\": \"EMAS2019_paper_32\", \"y\": \"EMAS2019_paper_29\", \"Correlation\": 50.0}, {\"x\": \"EMAS2019_paper_32\", \"y\": \"EMAS2019_paper_35\", \"Correlation\": 52.0}, {\"x\": \"EMAS2019_paper_32\", \"y\": \"EMAS2019_paper_8\", \"Correlation\": 60.0}, {\"x\": \"EMAS2019_paper_32\", \"y\": \"EMAS2019_paper_30\", \"Correlation\": 64.0}, {\"x\": \"EMAS2019_paper_32\", \"y\": \"EMAS2019_paper_25\", \"Correlation\": 63.0}, {\"x\": \"EMAS2019_paper_24\", \"y\": \"EMAS2019_paper_32\", \"Correlation\": 61.0}, {\"x\": \"EMAS2019_paper_24\", \"y\": \"EMAS2019_paper_24\", \"Correlation\": 100.0}, {\"x\": \"EMAS2019_paper_24\", \"y\": \"EMAS2019_paper_22\", \"Correlation\": 64.0}, {\"x\": \"EMAS2019_paper_24\", \"y\": \"EMAS2019_paper_28\", \"Correlation\": 69.0}, {\"x\": \"EMAS2019_paper_24\", \"y\": \"EMAS2019_paper_33\", \"Correlation\": 75.0}, {\"x\": \"EMAS2019_paper_24\", \"y\": \"EMAS2019_paper_5\", \"Correlation\": 66.0}, {\"x\": \"EMAS2019_paper_24\", \"y\": \"EMAS2019_paper_26\", \"Correlation\": 71.0}, {\"x\": \"EMAS2019_paper_24\", \"y\": \"EMAS2019_paper_21\", \"Correlation\": 68.0}, {\"x\": \"EMAS2019_paper_24\", \"y\": \"EMAS2019_paper_18\", \"Correlation\": 69.0}, {\"x\": \"EMAS2019_paper_24\", \"y\": \"EMAS2019_paper_23\", \"Correlation\": 68.0}, {\"x\": \"EMAS2019_paper_24\", \"y\": \"EMAS2019_paper_31\", \"Correlation\": 52.0}, {\"x\": \"EMAS2019_paper_24\", \"y\": \"EMAS2019_paper_27\", \"Correlation\": 77.0}, {\"x\": \"EMAS2019_paper_24\", \"y\": \"EMAS2019_paper_29\", \"Correlation\": 63.0}, {\"x\": \"EMAS2019_paper_24\", \"y\": \"EMAS2019_paper_35\", \"Correlation\": 60.0}, {\"x\": \"EMAS2019_paper_24\", \"y\": \"EMAS2019_paper_8\", \"Correlation\": 71.0}, {\"x\": \"EMAS2019_paper_24\", \"y\": \"EMAS2019_paper_30\", \"Correlation\": 60.0}, {\"x\": \"EMAS2019_paper_24\", \"y\": \"EMAS2019_paper_25\", \"Correlation\": 72.0}, {\"x\": \"EMAS2019_paper_22\", \"y\": \"EMAS2019_paper_32\", \"Correlation\": 63.0}, {\"x\": \"EMAS2019_paper_22\", \"y\": \"EMAS2019_paper_24\", \"Correlation\": 64.0}, {\"x\": \"EMAS2019_paper_22\", \"y\": \"EMAS2019_paper_22\", \"Correlation\": 100.0}, {\"x\": \"EMAS2019_paper_22\", \"y\": \"EMAS2019_paper_28\", \"Correlation\": 56.00000000000001}, {\"x\": \"EMAS2019_paper_22\", \"y\": \"EMAS2019_paper_33\", \"Correlation\": 72.0}, {\"x\": \"EMAS2019_paper_22\", \"y\": \"EMAS2019_paper_5\", \"Correlation\": 56.99999999999999}, {\"x\": \"EMAS2019_paper_22\", \"y\": \"EMAS2019_paper_26\", \"Correlation\": 63.0}, {\"x\": \"EMAS2019_paper_22\", \"y\": \"EMAS2019_paper_21\", \"Correlation\": 70.0}, {\"x\": \"EMAS2019_paper_22\", \"y\": \"EMAS2019_paper_18\", \"Correlation\": 56.00000000000001}, {\"x\": \"EMAS2019_paper_22\", \"y\": \"EMAS2019_paper_23\", \"Correlation\": 73.0}, {\"x\": \"EMAS2019_paper_22\", \"y\": \"EMAS2019_paper_31\", \"Correlation\": 55.00000000000001}, {\"x\": \"EMAS2019_paper_22\", \"y\": \"EMAS2019_paper_27\", \"Correlation\": 63.0}, {\"x\": \"EMAS2019_paper_22\", \"y\": \"EMAS2019_paper_29\", \"Correlation\": 48.0}, {\"x\": \"EMAS2019_paper_22\", \"y\": \"EMAS2019_paper_35\", \"Correlation\": 59.0}, {\"x\": \"EMAS2019_paper_22\", \"y\": \"EMAS2019_paper_8\", \"Correlation\": 69.0}, {\"x\": \"EMAS2019_paper_22\", \"y\": \"EMAS2019_paper_30\", \"Correlation\": 56.00000000000001}, {\"x\": \"EMAS2019_paper_22\", \"y\": \"EMAS2019_paper_25\", \"Correlation\": 61.0}, {\"x\": \"EMAS2019_paper_28\", \"y\": \"EMAS2019_paper_32\", \"Correlation\": 53.0}, {\"x\": \"EMAS2019_paper_28\", \"y\": \"EMAS2019_paper_24\", \"Correlation\": 69.0}, {\"x\": \"EMAS2019_paper_28\", \"y\": \"EMAS2019_paper_22\", \"Correlation\": 56.00000000000001}, {\"x\": \"EMAS2019_paper_28\", \"y\": \"EMAS2019_paper_28\", \"Correlation\": 100.0}, {\"x\": \"EMAS2019_paper_28\", \"y\": \"EMAS2019_paper_33\", \"Correlation\": 60.0}, {\"x\": \"EMAS2019_paper_28\", \"y\": \"EMAS2019_paper_5\", \"Correlation\": 54.0}, {\"x\": \"EMAS2019_paper_28\", \"y\": \"EMAS2019_paper_26\", \"Correlation\": 68.0}, {\"x\": \"EMAS2019_paper_28\", \"y\": \"EMAS2019_paper_21\", \"Correlation\": 65.0}, {\"x\": \"EMAS2019_paper_28\", \"y\": \"EMAS2019_paper_18\", \"Correlation\": 76.0}, {\"x\": \"EMAS2019_paper_28\", \"y\": \"EMAS2019_paper_23\", \"Correlation\": 56.99999999999999}, {\"x\": \"EMAS2019_paper_28\", \"y\": \"EMAS2019_paper_31\", \"Correlation\": 47.0}, {\"x\": \"EMAS2019_paper_28\", \"y\": \"EMAS2019_paper_27\", \"Correlation\": 74.0}, {\"x\": \"EMAS2019_paper_28\", \"y\": \"EMAS2019_paper_29\", \"Correlation\": 79.0}, {\"x\": \"EMAS2019_paper_28\", \"y\": \"EMAS2019_paper_35\", \"Correlation\": 56.00000000000001}, {\"x\": \"EMAS2019_paper_28\", \"y\": \"EMAS2019_paper_8\", \"Correlation\": 69.0}, {\"x\": \"EMAS2019_paper_28\", \"y\": \"EMAS2019_paper_30\", \"Correlation\": 57.99999999999999}, {\"x\": \"EMAS2019_paper_28\", \"y\": \"EMAS2019_paper_25\", \"Correlation\": 60.0}, {\"x\": \"EMAS2019_paper_33\", \"y\": \"EMAS2019_paper_32\", \"Correlation\": 62.0}, {\"x\": \"EMAS2019_paper_33\", \"y\": \"EMAS2019_paper_24\", \"Correlation\": 75.0}, {\"x\": \"EMAS2019_paper_33\", \"y\": \"EMAS2019_paper_22\", \"Correlation\": 72.0}, {\"x\": \"EMAS2019_paper_33\", \"y\": \"EMAS2019_paper_28\", \"Correlation\": 60.0}, {\"x\": \"EMAS2019_paper_33\", \"y\": \"EMAS2019_paper_33\", \"Correlation\": 100.0}, {\"x\": \"EMAS2019_paper_33\", \"y\": \"EMAS2019_paper_5\", \"Correlation\": 64.0}, {\"x\": \"EMAS2019_paper_33\", \"y\": \"EMAS2019_paper_26\", \"Correlation\": 73.0}, {\"x\": \"EMAS2019_paper_33\", \"y\": \"EMAS2019_paper_21\", \"Correlation\": 74.0}, {\"x\": \"EMAS2019_paper_33\", \"y\": \"EMAS2019_paper_18\", \"Correlation\": 60.0}, {\"x\": \"EMAS2019_paper_33\", \"y\": \"EMAS2019_paper_23\", \"Correlation\": 65.0}, {\"x\": \"EMAS2019_paper_33\", \"y\": \"EMAS2019_paper_31\", \"Correlation\": 62.0}, {\"x\": \"EMAS2019_paper_33\", \"y\": \"EMAS2019_paper_27\", \"Correlation\": 72.0}, {\"x\": \"EMAS2019_paper_33\", \"y\": \"EMAS2019_paper_29\", \"Correlation\": 50.0}, {\"x\": \"EMAS2019_paper_33\", \"y\": \"EMAS2019_paper_35\", \"Correlation\": 63.0}, {\"x\": \"EMAS2019_paper_33\", \"y\": \"EMAS2019_paper_8\", \"Correlation\": 68.0}, {\"x\": \"EMAS2019_paper_33\", \"y\": \"EMAS2019_paper_30\", \"Correlation\": 66.0}, {\"x\": \"EMAS2019_paper_33\", \"y\": \"EMAS2019_paper_25\", \"Correlation\": 74.0}, {\"x\": \"EMAS2019_paper_5\", \"y\": \"EMAS2019_paper_32\", \"Correlation\": 57.99999999999999}, {\"x\": \"EMAS2019_paper_5\", \"y\": \"EMAS2019_paper_24\", \"Correlation\": 66.0}, {\"x\": \"EMAS2019_paper_5\", \"y\": \"EMAS2019_paper_22\", \"Correlation\": 56.99999999999999}, {\"x\": \"EMAS2019_paper_5\", \"y\": \"EMAS2019_paper_28\", \"Correlation\": 54.0}, {\"x\": \"EMAS2019_paper_5\", \"y\": \"EMAS2019_paper_33\", \"Correlation\": 64.0}, {\"x\": \"EMAS2019_paper_5\", \"y\": \"EMAS2019_paper_5\", \"Correlation\": 100.0}, {\"x\": \"EMAS2019_paper_5\", \"y\": \"EMAS2019_paper_26\", \"Correlation\": 68.0}, {\"x\": \"EMAS2019_paper_5\", \"y\": \"EMAS2019_paper_21\", \"Correlation\": 65.0}, {\"x\": \"EMAS2019_paper_5\", \"y\": \"EMAS2019_paper_18\", \"Correlation\": 53.0}, {\"x\": \"EMAS2019_paper_5\", \"y\": \"EMAS2019_paper_23\", \"Correlation\": 53.0}, {\"x\": \"EMAS2019_paper_5\", \"y\": \"EMAS2019_paper_31\", \"Correlation\": 55.00000000000001}, {\"x\": \"EMAS2019_paper_5\", \"y\": \"EMAS2019_paper_27\", \"Correlation\": 57.99999999999999}, {\"x\": \"EMAS2019_paper_5\", \"y\": \"EMAS2019_paper_29\", \"Correlation\": 44.0}, {\"x\": \"EMAS2019_paper_5\", \"y\": \"EMAS2019_paper_35\", \"Correlation\": 57.99999999999999}, {\"x\": \"EMAS2019_paper_5\", \"y\": \"EMAS2019_paper_8\", \"Correlation\": 65.0}, {\"x\": \"EMAS2019_paper_5\", \"y\": \"EMAS2019_paper_30\", \"Correlation\": 57.99999999999999}, {\"x\": \"EMAS2019_paper_5\", \"y\": \"EMAS2019_paper_25\", \"Correlation\": 60.0}, {\"x\": \"EMAS2019_paper_26\", \"y\": \"EMAS2019_paper_32\", \"Correlation\": 65.0}, {\"x\": \"EMAS2019_paper_26\", \"y\": \"EMAS2019_paper_24\", \"Correlation\": 71.0}, {\"x\": \"EMAS2019_paper_26\", \"y\": \"EMAS2019_paper_22\", \"Correlation\": 63.0}, {\"x\": \"EMAS2019_paper_26\", \"y\": \"EMAS2019_paper_28\", \"Correlation\": 68.0}, {\"x\": \"EMAS2019_paper_26\", \"y\": \"EMAS2019_paper_33\", \"Correlation\": 73.0}, {\"x\": \"EMAS2019_paper_26\", \"y\": \"EMAS2019_paper_5\", \"Correlation\": 68.0}, {\"x\": \"EMAS2019_paper_26\", \"y\": \"EMAS2019_paper_26\", \"Correlation\": 100.0}, {\"x\": \"EMAS2019_paper_26\", \"y\": \"EMAS2019_paper_21\", \"Correlation\": 63.0}, {\"x\": \"EMAS2019_paper_26\", \"y\": \"EMAS2019_paper_18\", \"Correlation\": 65.0}, {\"x\": \"EMAS2019_paper_26\", \"y\": \"EMAS2019_paper_23\", \"Correlation\": 60.0}, {\"x\": \"EMAS2019_paper_26\", \"y\": \"EMAS2019_paper_31\", \"Correlation\": 56.99999999999999}, {\"x\": \"EMAS2019_paper_26\", \"y\": \"EMAS2019_paper_27\", \"Correlation\": 74.0}, {\"x\": \"EMAS2019_paper_26\", \"y\": \"EMAS2019_paper_29\", \"Correlation\": 62.0}, {\"x\": \"EMAS2019_paper_26\", \"y\": \"EMAS2019_paper_35\", \"Correlation\": 55.00000000000001}, {\"x\": \"EMAS2019_paper_26\", \"y\": \"EMAS2019_paper_8\", \"Correlation\": 69.0}, {\"x\": \"EMAS2019_paper_26\", \"y\": \"EMAS2019_paper_30\", \"Correlation\": 64.0}, {\"x\": \"EMAS2019_paper_26\", \"y\": \"EMAS2019_paper_25\", \"Correlation\": 70.0}, {\"x\": \"EMAS2019_paper_21\", \"y\": \"EMAS2019_paper_32\", \"Correlation\": 56.00000000000001}, {\"x\": \"EMAS2019_paper_21\", \"y\": \"EMAS2019_paper_24\", \"Correlation\": 68.0}, {\"x\": \"EMAS2019_paper_21\", \"y\": \"EMAS2019_paper_22\", \"Correlation\": 70.0}, {\"x\": \"EMAS2019_paper_21\", \"y\": \"EMAS2019_paper_28\", \"Correlation\": 65.0}, {\"x\": \"EMAS2019_paper_21\", \"y\": \"EMAS2019_paper_33\", \"Correlation\": 74.0}, {\"x\": \"EMAS2019_paper_21\", \"y\": \"EMAS2019_paper_5\", \"Correlation\": 65.0}, {\"x\": \"EMAS2019_paper_21\", \"y\": \"EMAS2019_paper_26\", \"Correlation\": 63.0}, {\"x\": \"EMAS2019_paper_21\", \"y\": \"EMAS2019_paper_21\", \"Correlation\": 100.0}, {\"x\": \"EMAS2019_paper_21\", \"y\": \"EMAS2019_paper_18\", \"Correlation\": 65.0}, {\"x\": \"EMAS2019_paper_21\", \"y\": \"EMAS2019_paper_23\", \"Correlation\": 65.0}, {\"x\": \"EMAS2019_paper_21\", \"y\": \"EMAS2019_paper_31\", \"Correlation\": 56.99999999999999}, {\"x\": \"EMAS2019_paper_21\", \"y\": \"EMAS2019_paper_27\", \"Correlation\": 68.0}, {\"x\": \"EMAS2019_paper_21\", \"y\": \"EMAS2019_paper_29\", \"Correlation\": 55.00000000000001}, {\"x\": \"EMAS2019_paper_21\", \"y\": \"EMAS2019_paper_35\", \"Correlation\": 62.0}, {\"x\": \"EMAS2019_paper_21\", \"y\": \"EMAS2019_paper_8\", \"Correlation\": 80.0}, {\"x\": \"EMAS2019_paper_21\", \"y\": \"EMAS2019_paper_30\", \"Correlation\": 57.99999999999999}, {\"x\": \"EMAS2019_paper_21\", \"y\": \"EMAS2019_paper_25\", \"Correlation\": 68.0}, {\"x\": \"EMAS2019_paper_18\", \"y\": \"EMAS2019_paper_32\", \"Correlation\": 60.0}, {\"x\": \"EMAS2019_paper_18\", \"y\": \"EMAS2019_paper_24\", \"Correlation\": 69.0}, {\"x\": \"EMAS2019_paper_18\", \"y\": \"EMAS2019_paper_22\", \"Correlation\": 56.00000000000001}, {\"x\": \"EMAS2019_paper_18\", \"y\": \"EMAS2019_paper_28\", \"Correlation\": 76.0}, {\"x\": \"EMAS2019_paper_18\", \"y\": \"EMAS2019_paper_33\", \"Correlation\": 60.0}, {\"x\": \"EMAS2019_paper_18\", \"y\": \"EMAS2019_paper_5\", \"Correlation\": 53.0}, {\"x\": \"EMAS2019_paper_18\", \"y\": \"EMAS2019_paper_26\", \"Correlation\": 65.0}, {\"x\": \"EMAS2019_paper_18\", \"y\": \"EMAS2019_paper_21\", \"Correlation\": 65.0}, {\"x\": \"EMAS2019_paper_18\", \"y\": \"EMAS2019_paper_18\", \"Correlation\": 100.0}, {\"x\": \"EMAS2019_paper_18\", \"y\": \"EMAS2019_paper_23\", \"Correlation\": 55.00000000000001}, {\"x\": \"EMAS2019_paper_18\", \"y\": \"EMAS2019_paper_31\", \"Correlation\": 49.0}, {\"x\": \"EMAS2019_paper_18\", \"y\": \"EMAS2019_paper_27\", \"Correlation\": 77.0}, {\"x\": \"EMAS2019_paper_18\", \"y\": \"EMAS2019_paper_29\", \"Correlation\": 78.0}, {\"x\": \"EMAS2019_paper_18\", \"y\": \"EMAS2019_paper_35\", \"Correlation\": 60.0}, {\"x\": \"EMAS2019_paper_18\", \"y\": \"EMAS2019_paper_8\", \"Correlation\": 68.0}, {\"x\": \"EMAS2019_paper_18\", \"y\": \"EMAS2019_paper_30\", \"Correlation\": 57.99999999999999}, {\"x\": \"EMAS2019_paper_18\", \"y\": \"EMAS2019_paper_25\", \"Correlation\": 61.0}, {\"x\": \"EMAS2019_paper_23\", \"y\": \"EMAS2019_paper_32\", \"Correlation\": 52.0}, {\"x\": \"EMAS2019_paper_23\", \"y\": \"EMAS2019_paper_24\", \"Correlation\": 68.0}, {\"x\": \"EMAS2019_paper_23\", \"y\": \"EMAS2019_paper_22\", \"Correlation\": 73.0}, {\"x\": \"EMAS2019_paper_23\", \"y\": \"EMAS2019_paper_28\", \"Correlation\": 56.99999999999999}, {\"x\": \"EMAS2019_paper_23\", \"y\": \"EMAS2019_paper_33\", \"Correlation\": 65.0}, {\"x\": \"EMAS2019_paper_23\", \"y\": \"EMAS2019_paper_5\", \"Correlation\": 53.0}, {\"x\": \"EMAS2019_paper_23\", \"y\": \"EMAS2019_paper_26\", \"Correlation\": 60.0}, {\"x\": \"EMAS2019_paper_23\", \"y\": \"EMAS2019_paper_21\", \"Correlation\": 65.0}, {\"x\": \"EMAS2019_paper_23\", \"y\": \"EMAS2019_paper_18\", \"Correlation\": 55.00000000000001}, {\"x\": \"EMAS2019_paper_23\", \"y\": \"EMAS2019_paper_23\", \"Correlation\": 100.0}, {\"x\": \"EMAS2019_paper_23\", \"y\": \"EMAS2019_paper_31\", \"Correlation\": 48.0}, {\"x\": \"EMAS2019_paper_23\", \"y\": \"EMAS2019_paper_27\", \"Correlation\": 62.0}, {\"x\": \"EMAS2019_paper_23\", \"y\": \"EMAS2019_paper_29\", \"Correlation\": 54.0}, {\"x\": \"EMAS2019_paper_23\", \"y\": \"EMAS2019_paper_35\", \"Correlation\": 53.0}, {\"x\": \"EMAS2019_paper_23\", \"y\": \"EMAS2019_paper_8\", \"Correlation\": 63.0}, {\"x\": \"EMAS2019_paper_23\", \"y\": \"EMAS2019_paper_30\", \"Correlation\": 55.00000000000001}, {\"x\": \"EMAS2019_paper_23\", \"y\": \"EMAS2019_paper_25\", \"Correlation\": 61.0}, {\"x\": \"EMAS2019_paper_31\", \"y\": \"EMAS2019_paper_32\", \"Correlation\": 65.0}, {\"x\": \"EMAS2019_paper_31\", \"y\": \"EMAS2019_paper_24\", \"Correlation\": 52.0}, {\"x\": \"EMAS2019_paper_31\", \"y\": \"EMAS2019_paper_22\", \"Correlation\": 55.00000000000001}, {\"x\": \"EMAS2019_paper_31\", \"y\": \"EMAS2019_paper_28\", \"Correlation\": 47.0}, {\"x\": \"EMAS2019_paper_31\", \"y\": \"EMAS2019_paper_33\", \"Correlation\": 62.0}, {\"x\": \"EMAS2019_paper_31\", \"y\": \"EMAS2019_paper_5\", \"Correlation\": 55.00000000000001}, {\"x\": \"EMAS2019_paper_31\", \"y\": \"EMAS2019_paper_26\", \"Correlation\": 56.99999999999999}, {\"x\": \"EMAS2019_paper_31\", \"y\": \"EMAS2019_paper_21\", \"Correlation\": 56.99999999999999}, {\"x\": \"EMAS2019_paper_31\", \"y\": \"EMAS2019_paper_18\", \"Correlation\": 49.0}, {\"x\": \"EMAS2019_paper_31\", \"y\": \"EMAS2019_paper_23\", \"Correlation\": 48.0}, {\"x\": \"EMAS2019_paper_31\", \"y\": \"EMAS2019_paper_31\", \"Correlation\": 100.0}, {\"x\": \"EMAS2019_paper_31\", \"y\": \"EMAS2019_paper_27\", \"Correlation\": 53.0}, {\"x\": \"EMAS2019_paper_31\", \"y\": \"EMAS2019_paper_29\", \"Correlation\": 39.0}, {\"x\": \"EMAS2019_paper_31\", \"y\": \"EMAS2019_paper_35\", \"Correlation\": 42.0}, {\"x\": \"EMAS2019_paper_31\", \"y\": \"EMAS2019_paper_8\", \"Correlation\": 54.0}, {\"x\": \"EMAS2019_paper_31\", \"y\": \"EMAS2019_paper_30\", \"Correlation\": 81.0}, {\"x\": \"EMAS2019_paper_31\", \"y\": \"EMAS2019_paper_25\", \"Correlation\": 67.0}, {\"x\": \"EMAS2019_paper_27\", \"y\": \"EMAS2019_paper_32\", \"Correlation\": 61.0}, {\"x\": \"EMAS2019_paper_27\", \"y\": \"EMAS2019_paper_24\", \"Correlation\": 77.0}, {\"x\": \"EMAS2019_paper_27\", \"y\": \"EMAS2019_paper_22\", \"Correlation\": 63.0}, {\"x\": \"EMAS2019_paper_27\", \"y\": \"EMAS2019_paper_28\", \"Correlation\": 74.0}, {\"x\": \"EMAS2019_paper_27\", \"y\": \"EMAS2019_paper_33\", \"Correlation\": 72.0}, {\"x\": \"EMAS2019_paper_27\", \"y\": \"EMAS2019_paper_5\", \"Correlation\": 57.99999999999999}, {\"x\": \"EMAS2019_paper_27\", \"y\": \"EMAS2019_paper_26\", \"Correlation\": 74.0}, {\"x\": \"EMAS2019_paper_27\", \"y\": \"EMAS2019_paper_21\", \"Correlation\": 68.0}, {\"x\": \"EMAS2019_paper_27\", \"y\": \"EMAS2019_paper_18\", \"Correlation\": 77.0}, {\"x\": \"EMAS2019_paper_27\", \"y\": \"EMAS2019_paper_23\", \"Correlation\": 62.0}, {\"x\": \"EMAS2019_paper_27\", \"y\": \"EMAS2019_paper_31\", \"Correlation\": 53.0}, {\"x\": \"EMAS2019_paper_27\", \"y\": \"EMAS2019_paper_27\", \"Correlation\": 100.0}, {\"x\": \"EMAS2019_paper_27\", \"y\": \"EMAS2019_paper_29\", \"Correlation\": 70.0}, {\"x\": \"EMAS2019_paper_27\", \"y\": \"EMAS2019_paper_35\", \"Correlation\": 55.00000000000001}, {\"x\": \"EMAS2019_paper_27\", \"y\": \"EMAS2019_paper_8\", \"Correlation\": 69.0}, {\"x\": \"EMAS2019_paper_27\", \"y\": \"EMAS2019_paper_30\", \"Correlation\": 60.0}, {\"x\": \"EMAS2019_paper_27\", \"y\": \"EMAS2019_paper_25\", \"Correlation\": 70.0}, {\"x\": \"EMAS2019_paper_29\", \"y\": \"EMAS2019_paper_32\", \"Correlation\": 50.0}, {\"x\": \"EMAS2019_paper_29\", \"y\": \"EMAS2019_paper_24\", \"Correlation\": 63.0}, {\"x\": \"EMAS2019_paper_29\", \"y\": \"EMAS2019_paper_22\", \"Correlation\": 48.0}, {\"x\": \"EMAS2019_paper_29\", \"y\": \"EMAS2019_paper_28\", \"Correlation\": 79.0}, {\"x\": \"EMAS2019_paper_29\", \"y\": \"EMAS2019_paper_33\", \"Correlation\": 50.0}, {\"x\": \"EMAS2019_paper_29\", \"y\": \"EMAS2019_paper_5\", \"Correlation\": 44.0}, {\"x\": \"EMAS2019_paper_29\", \"y\": \"EMAS2019_paper_26\", \"Correlation\": 62.0}, {\"x\": \"EMAS2019_paper_29\", \"y\": \"EMAS2019_paper_21\", \"Correlation\": 55.00000000000001}, {\"x\": \"EMAS2019_paper_29\", \"y\": \"EMAS2019_paper_18\", \"Correlation\": 78.0}, {\"x\": \"EMAS2019_paper_29\", \"y\": \"EMAS2019_paper_23\", \"Correlation\": 54.0}, {\"x\": \"EMAS2019_paper_29\", \"y\": \"EMAS2019_paper_31\", \"Correlation\": 39.0}, {\"x\": \"EMAS2019_paper_29\", \"y\": \"EMAS2019_paper_27\", \"Correlation\": 70.0}, {\"x\": \"EMAS2019_paper_29\", \"y\": \"EMAS2019_paper_29\", \"Correlation\": 100.0}, {\"x\": \"EMAS2019_paper_29\", \"y\": \"EMAS2019_paper_35\", \"Correlation\": 49.0}, {\"x\": \"EMAS2019_paper_29\", \"y\": \"EMAS2019_paper_8\", \"Correlation\": 60.0}, {\"x\": \"EMAS2019_paper_29\", \"y\": \"EMAS2019_paper_30\", \"Correlation\": 49.0}, {\"x\": \"EMAS2019_paper_29\", \"y\": \"EMAS2019_paper_25\", \"Correlation\": 53.0}, {\"x\": \"EMAS2019_paper_35\", \"y\": \"EMAS2019_paper_32\", \"Correlation\": 52.0}, {\"x\": \"EMAS2019_paper_35\", \"y\": \"EMAS2019_paper_24\", \"Correlation\": 60.0}, {\"x\": \"EMAS2019_paper_35\", \"y\": \"EMAS2019_paper_22\", \"Correlation\": 59.0}, {\"x\": \"EMAS2019_paper_35\", \"y\": \"EMAS2019_paper_28\", \"Correlation\": 56.00000000000001}, {\"x\": \"EMAS2019_paper_35\", \"y\": \"EMAS2019_paper_33\", \"Correlation\": 63.0}, {\"x\": \"EMAS2019_paper_35\", \"y\": \"EMAS2019_paper_5\", \"Correlation\": 57.99999999999999}, {\"x\": \"EMAS2019_paper_35\", \"y\": \"EMAS2019_paper_26\", \"Correlation\": 55.00000000000001}, {\"x\": \"EMAS2019_paper_35\", \"y\": \"EMAS2019_paper_21\", \"Correlation\": 62.0}, {\"x\": \"EMAS2019_paper_35\", \"y\": \"EMAS2019_paper_18\", \"Correlation\": 60.0}, {\"x\": \"EMAS2019_paper_35\", \"y\": \"EMAS2019_paper_23\", \"Correlation\": 53.0}, {\"x\": \"EMAS2019_paper_35\", \"y\": \"EMAS2019_paper_31\", \"Correlation\": 42.0}, {\"x\": \"EMAS2019_paper_35\", \"y\": \"EMAS2019_paper_27\", \"Correlation\": 55.00000000000001}, {\"x\": \"EMAS2019_paper_35\", \"y\": \"EMAS2019_paper_29\", \"Correlation\": 49.0}, {\"x\": \"EMAS2019_paper_35\", \"y\": \"EMAS2019_paper_35\", \"Correlation\": 100.0}, {\"x\": \"EMAS2019_paper_35\", \"y\": \"EMAS2019_paper_8\", \"Correlation\": 59.0}, {\"x\": \"EMAS2019_paper_35\", \"y\": \"EMAS2019_paper_30\", \"Correlation\": 52.0}, {\"x\": \"EMAS2019_paper_35\", \"y\": \"EMAS2019_paper_25\", \"Correlation\": 50.0}, {\"x\": \"EMAS2019_paper_8\", \"y\": \"EMAS2019_paper_32\", \"Correlation\": 60.0}, {\"x\": \"EMAS2019_paper_8\", \"y\": \"EMAS2019_paper_24\", \"Correlation\": 71.0}, {\"x\": \"EMAS2019_paper_8\", \"y\": \"EMAS2019_paper_22\", \"Correlation\": 69.0}, {\"x\": \"EMAS2019_paper_8\", \"y\": \"EMAS2019_paper_28\", \"Correlation\": 69.0}, {\"x\": \"EMAS2019_paper_8\", \"y\": \"EMAS2019_paper_33\", \"Correlation\": 68.0}, {\"x\": \"EMAS2019_paper_8\", \"y\": \"EMAS2019_paper_5\", \"Correlation\": 65.0}, {\"x\": \"EMAS2019_paper_8\", \"y\": \"EMAS2019_paper_26\", \"Correlation\": 69.0}, {\"x\": \"EMAS2019_paper_8\", \"y\": \"EMAS2019_paper_21\", \"Correlation\": 80.0}, {\"x\": \"EMAS2019_paper_8\", \"y\": \"EMAS2019_paper_18\", \"Correlation\": 68.0}, {\"x\": \"EMAS2019_paper_8\", \"y\": \"EMAS2019_paper_23\", \"Correlation\": 63.0}, {\"x\": \"EMAS2019_paper_8\", \"y\": \"EMAS2019_paper_31\", \"Correlation\": 54.0}, {\"x\": \"EMAS2019_paper_8\", \"y\": \"EMAS2019_paper_27\", \"Correlation\": 69.0}, {\"x\": \"EMAS2019_paper_8\", \"y\": \"EMAS2019_paper_29\", \"Correlation\": 60.0}, {\"x\": \"EMAS2019_paper_8\", \"y\": \"EMAS2019_paper_35\", \"Correlation\": 59.0}, {\"x\": \"EMAS2019_paper_8\", \"y\": \"EMAS2019_paper_8\", \"Correlation\": 100.0}, {\"x\": \"EMAS2019_paper_8\", \"y\": \"EMAS2019_paper_30\", \"Correlation\": 56.99999999999999}, {\"x\": \"EMAS2019_paper_8\", \"y\": \"EMAS2019_paper_25\", \"Correlation\": 66.0}, {\"x\": \"EMAS2019_paper_30\", \"y\": \"EMAS2019_paper_32\", \"Correlation\": 64.0}, {\"x\": \"EMAS2019_paper_30\", \"y\": \"EMAS2019_paper_24\", \"Correlation\": 60.0}, {\"x\": \"EMAS2019_paper_30\", \"y\": \"EMAS2019_paper_22\", \"Correlation\": 56.00000000000001}, {\"x\": \"EMAS2019_paper_30\", \"y\": \"EMAS2019_paper_28\", \"Correlation\": 57.99999999999999}, {\"x\": \"EMAS2019_paper_30\", \"y\": \"EMAS2019_paper_33\", \"Correlation\": 66.0}, {\"x\": \"EMAS2019_paper_30\", \"y\": \"EMAS2019_paper_5\", \"Correlation\": 57.99999999999999}, {\"x\": \"EMAS2019_paper_30\", \"y\": \"EMAS2019_paper_26\", \"Correlation\": 64.0}, {\"x\": \"EMAS2019_paper_30\", \"y\": \"EMAS2019_paper_21\", \"Correlation\": 57.99999999999999}, {\"x\": \"EMAS2019_paper_30\", \"y\": \"EMAS2019_paper_18\", \"Correlation\": 57.99999999999999}, {\"x\": \"EMAS2019_paper_30\", \"y\": \"EMAS2019_paper_23\", \"Correlation\": 55.00000000000001}, {\"x\": \"EMAS2019_paper_30\", \"y\": \"EMAS2019_paper_31\", \"Correlation\": 81.0}, {\"x\": \"EMAS2019_paper_30\", \"y\": \"EMAS2019_paper_27\", \"Correlation\": 60.0}, {\"x\": \"EMAS2019_paper_30\", \"y\": \"EMAS2019_paper_29\", \"Correlation\": 49.0}, {\"x\": \"EMAS2019_paper_30\", \"y\": \"EMAS2019_paper_35\", \"Correlation\": 52.0}, {\"x\": \"EMAS2019_paper_30\", \"y\": \"EMAS2019_paper_8\", \"Correlation\": 56.99999999999999}, {\"x\": \"EMAS2019_paper_30\", \"y\": \"EMAS2019_paper_30\", \"Correlation\": 100.0}, {\"x\": \"EMAS2019_paper_30\", \"y\": \"EMAS2019_paper_25\", \"Correlation\": 70.0}, {\"x\": \"EMAS2019_paper_25\", \"y\": \"EMAS2019_paper_32\", \"Correlation\": 63.0}, {\"x\": \"EMAS2019_paper_25\", \"y\": \"EMAS2019_paper_24\", \"Correlation\": 72.0}, {\"x\": \"EMAS2019_paper_25\", \"y\": \"EMAS2019_paper_22\", \"Correlation\": 61.0}, {\"x\": \"EMAS2019_paper_25\", \"y\": \"EMAS2019_paper_28\", \"Correlation\": 60.0}, {\"x\": \"EMAS2019_paper_25\", \"y\": \"EMAS2019_paper_33\", \"Correlation\": 74.0}, {\"x\": \"EMAS2019_paper_25\", \"y\": \"EMAS2019_paper_5\", \"Correlation\": 60.0}, {\"x\": \"EMAS2019_paper_25\", \"y\": \"EMAS2019_paper_26\", \"Correlation\": 70.0}, {\"x\": \"EMAS2019_paper_25\", \"y\": \"EMAS2019_paper_21\", \"Correlation\": 68.0}, {\"x\": \"EMAS2019_paper_25\", \"y\": \"EMAS2019_paper_18\", \"Correlation\": 61.0}, {\"x\": \"EMAS2019_paper_25\", \"y\": \"EMAS2019_paper_23\", \"Correlation\": 61.0}, {\"x\": \"EMAS2019_paper_25\", \"y\": \"EMAS2019_paper_31\", \"Correlation\": 67.0}, {\"x\": \"EMAS2019_paper_25\", \"y\": \"EMAS2019_paper_27\", \"Correlation\": 70.0}, {\"x\": \"EMAS2019_paper_25\", \"y\": \"EMAS2019_paper_29\", \"Correlation\": 53.0}, {\"x\": \"EMAS2019_paper_25\", \"y\": \"EMAS2019_paper_35\", \"Correlation\": 50.0}, {\"x\": \"EMAS2019_paper_25\", \"y\": \"EMAS2019_paper_8\", \"Correlation\": 66.0}, {\"x\": \"EMAS2019_paper_25\", \"y\": \"EMAS2019_paper_30\", \"Correlation\": 70.0}, {\"x\": \"EMAS2019_paper_25\", \"y\": \"EMAS2019_paper_25\", \"Correlation\": 100.0}]}}, {\"mode\": \"vega-lite\"});\n",
       "</script>"
      ],
      "text/plain": [
       "alt.LayerChart(...)"
      ]
     },
     "execution_count": 65,
     "metadata": {},
     "output_type": "execute_result"
    }
   ],
   "source": [
    "\n",
    "dfplot = pd.DataFrame({'x': dfsingle[\"paper_a\"].ravel(),\n",
    "                   'y': dfsingle[\"paper_b\"].ravel(),\n",
    "                   'Correlation': dfsingle[\"correlation\"].ravel()})\n",
    "\n",
    "chart = alt.Chart(dfplot).mark_rect().encode(\n",
    "    x=alt.X('x:O', axis=alt.Axis(title=\"\")),\n",
    "    y=alt.Y('y:O', axis=alt.Axis(title=\"\")),\n",
    "    color='Correlation:Q'\n",
    ")\n",
    "\n",
    "text = chart.mark_text(baseline='middle').encode(\n",
    "    text='Correlation:Q',\n",
    "    color=alt.condition(\n",
    "        alt.datum.Correlation > 70,\n",
    "        alt.value('black'),\n",
    "        alt.value('white')\n",
    "    )\n",
    ")\n",
    "\n",
    "# Draw the chart\n",
    "plot = chart.properties(width=CHART_WIDTH, height=CHART_HEIGHT) + text\n",
    "plot"
   ]
  },
  {
   "cell_type": "code",
   "execution_count": 68,
   "metadata": {},
   "outputs": [
    {
     "name": "stdout",
     "output_type": "stream",
     "text": [
      "EMAS2019_paper_32 :  On Enactability of Agent Interaction Protocols: Towards a Unified Approach \n",
      "EMAS2019_paper_24 :  Jacamo-web is on the fly: an interactive Multi-Agent System IDE?  Cleber J\n",
      "EMAS2019_paper_22 :  Agents are More Complex than Other Software: An Empirical Investigation  A\n",
      "EMAS2019_paper_28 :  An Introduction to Engineering Multiagent Industrial Symbiosis Systems: Potent\n",
      "EMAS2019_paper_33 :  Incorporating social practices in BDI agent systems  Stephen Cranefield1 and\n",
      "EMAS2019_paper_5 :  From Programming Agents to Educating Agents xe2x80x93 A Jason-based Fram\n",
      "EMAS2019_paper_26 :  The xe2x80x9cWhy did you do that?xe2x80x9d Button: Answering Why-q\n",
      "EMAS2019_paper_21 :  From Goals to Organisations: automated organisation generator for MAS?  Cl\n",
      "EMAS2019_paper_18 :  Using MATSim as a Component in Dynamic Agent-Based Micro-Simulations  Dhir\n",
      "EMAS2019_paper_23 :  JS-son - A Minimal JavaScript BDI Agent Library  Timotheus Kampik and Juan\n",
      "EMAS2019_paper_31 :  Whoxe2x80x99s that? - Modelling Social Situations for Behaviour Support \n",
      "EMAS2019_paper_27 :  Plan Library Reconfigurability in BDI Agents?  Rafael C. Cardoso, Louise A. \n",
      "EMAS2019_paper_29 :  SAT for Epistemic Logic using Belief Bases  Fabiaxccx81n Romero1 and Emi\n",
      "EMAS2019_paper_35 :  Accountability and Agents for Engineering Business Processes  Matteo Baldo\n",
      "EMAS2019_paper_8 :  Concurrency and Asynchrony in Protocol Languages  Amit K. Chopra1, Samuel \n",
      "EMAS2019_paper_30 :  An Architecture for Integrating BDI Agents with a Simulation Environment  \n",
      "EMAS2019_paper_25 :  What Does It Take to Create Social Awareness for Support Agents??  Ilir Ko\n"
     ]
    }
   ],
   "source": [
    "for i in range(len(file_names)):\n",
    "    text = read_text(text_files[i])\n",
    "    fchar = re.search(r\"[^b'\\\\n]\", text).start()\n",
    "    print(file_names[i], \": \", text[fchar:fchar+80].replace(\"\\\\n\", \" \").replace(\"\\\\\", \"\"))"
   ]
  },
  {
   "cell_type": "markdown",
   "metadata": {},
   "source": [
    "### Credits\n",
    "Developed by [Cleber Jorge Amaral](https://cleberjamaral.github.io/), acknowledging it is highly inspired by a work presented by Aladdin Shamoug"
   ]
  },
  {
   "cell_type": "code",
   "execution_count": null,
   "metadata": {},
   "outputs": [],
   "source": []
  }
 ],
 "metadata": {
  "kernelspec": {
   "display_name": "Python 3",
   "language": "python",
   "name": "python3"
  },
  "language_info": {
   "codemirror_mode": {
    "name": "ipython",
    "version": 3
   },
   "file_extension": ".py",
   "mimetype": "text/x-python",
   "name": "python",
   "nbconvert_exporter": "python",
   "pygments_lexer": "ipython3",
   "version": "3.7.7"
  }
 },
 "nbformat": 4,
 "nbformat_minor": 4
}
